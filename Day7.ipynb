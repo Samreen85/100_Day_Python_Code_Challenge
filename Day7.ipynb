{
 "cells": [
  {
   "cell_type": "markdown",
   "metadata": {},
   "source": [
    "# Day7\n",
    "### ('RegEX', ''Try...Except, 'User Input', 'string formatting')"
   ]
  },
  {
   "cell_type": "code",
   "execution_count": null,
   "metadata": {},
   "outputs": [],
   "source": [
    "# RegEX"
   ]
  },
  {
   "cell_type": "code",
   "execution_count": 1,
   "metadata": {},
   "outputs": [
    {
     "name": "stdout",
     "output_type": "stream",
     "text": [
      "10\n",
      "try except run successfully.\n"
     ]
    }
   ],
   "source": [
    "# Try Except\n",
    "try:\n",
    "    a = 5\n",
    "    c = a + 5\n",
    "    print(c)\n",
    "\n",
    "except Exception as e:\n",
    "    print(e)\n",
    "    \n",
    "else:\n",
    "    print(\"try except run successfully.\")"
   ]
  },
  {
   "cell_type": "code",
   "execution_count": 2,
   "metadata": {},
   "outputs": [
    {
     "name": "stdout",
     "output_type": "stream",
     "text": [
      "1\n",
      "2\n",
      "3\n",
      "4\n",
      "5\n"
     ]
    }
   ],
   "source": [
    "# Try Except with in the loop\n",
    "for i in range(1, 6):\n",
    "    try:\n",
    "        print(i)\n",
    "    except Exception as e:\n",
    "        continue"
   ]
  },
  {
   "cell_type": "code",
   "execution_count": 4,
   "metadata": {},
   "outputs": [
    {
     "name": "stdout",
     "output_type": "stream",
     "text": [
      "Samreen\n",
      "24\n"
     ]
    }
   ],
   "source": [
    "# User Input\n",
    "name = input('Enter your name: ')\n",
    "age = input('Enter your age:')\n",
    "print(name)\n",
    "print(age)"
   ]
  },
  {
   "cell_type": "code",
   "execution_count": 6,
   "metadata": {},
   "outputs": [
    {
     "name": "stdout",
     "output_type": "stream",
     "text": [
      "My name is Samreen\n",
      "My name is Malik\n",
      "My name is Saam\n",
      "My name is Shaami\n",
      "Enter valid operator\n"
     ]
    }
   ],
   "source": [
    "# String Formatting(f-string)\n",
    "name_list = [\"Samreen\", \"Malik\", \"Saam\", \"Shaami\"]\n",
    "for name in name_list:\n",
    "    print(f\"My name is {name}\")\n",
    "\n",
    "a = int(input(\"Enter a:\"))\n",
    "b = int(input(\"Enter b:\"))\n",
    "operator = input(\"Enter operator:\")\n",
    "\n",
    "if operator == '+':\n",
    "    print(a + b)\n",
    "\n",
    "elif operator == '-':\n",
    "    print(a - b)\n",
    "\n",
    "elif operator == '*':\n",
    "    print(a * b)\n",
    "\n",
    "elif operator == '/':\n",
    "    print(a / b)\n",
    "else:\n",
    "    print(\"Enter valid operator\")"
   ]
  }
 ],
 "metadata": {
  "kernelspec": {
   "display_name": "100",
   "language": "python",
   "name": "python3"
  },
  "language_info": {
   "codemirror_mode": {
    "name": "ipython",
    "version": 3
   },
   "file_extension": ".py",
   "mimetype": "text/x-python",
   "name": "python",
   "nbconvert_exporter": "python",
   "pygments_lexer": "ipython3",
   "version": "3.11.9"
  }
 },
 "nbformat": 4,
 "nbformat_minor": 2
}
