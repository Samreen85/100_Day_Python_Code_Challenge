{
 "cells": [
  {
   "cell_type": "markdown",
   "metadata": {},
   "source": [
    "# Day2('Lists', 'Tuples', 'Sets', 'Dictionaries')"
   ]
  },
  {
   "cell_type": "markdown",
   "metadata": {},
   "source": [
    "### Python Lists"
   ]
  },
  {
   "cell_type": "code",
   "execution_count": 2,
   "metadata": {},
   "outputs": [
    {
     "name": "stdout",
     "output_type": "stream",
     "text": [
      "['Banana', 'Apple', 'Peach', 'Grapes', 'Mango']\n",
      "5\n",
      "<class 'list'>\n"
     ]
    }
   ],
   "source": [
    "# List is ordered, changeable, allow duplicates, allow to store different data types in one list.\n",
    "Fruits_List = [\"Banana\", 'Apple', 'Peach', 'Grapes', 'Mango']\n",
    "print(Fruits_List)\n",
    "print(len(Fruits_List))\n",
    "print(type(Fruits_List))"
   ]
  },
  {
   "cell_type": "code",
   "execution_count": 4,
   "metadata": {},
   "outputs": [
    {
     "name": "stdout",
     "output_type": "stream",
     "text": [
      "Apple\n",
      "['Banana', 'Apple', 'Peach', 'Grapes', 'Mango']\n"
     ]
    }
   ],
   "source": [
    "# Access Items\n",
    "print(Fruits_List[1])\n",
    "print(Fruits_List[:len(Fruits_List)])"
   ]
  },
  {
   "cell_type": "code",
   "execution_count": 6,
   "metadata": {},
   "outputs": [
    {
     "name": "stdout",
     "output_type": "stream",
     "text": [
      "['Banana', 'Apple', 'Peach']\n",
      "['Banana', 'Kiwi', 'Peach']\n"
     ]
    }
   ],
   "source": [
    "# Change List items\n",
    "new_list = Fruits_List[:3]\n",
    "print(new_list)\n",
    "new_list[1] = 'Kiwi'\n",
    "print(new_list)"
   ]
  },
  {
   "cell_type": "code",
   "execution_count": 7,
   "metadata": {},
   "outputs": [
    {
     "name": "stdout",
     "output_type": "stream",
     "text": [
      "['Banana', 'Kiwi', 'Grapes', 'Peach']\n"
     ]
    }
   ],
   "source": [
    "# Insert Items\n",
    "new_list.insert(2, 'Grapes')\n",
    "print(new_list)"
   ]
  },
  {
   "cell_type": "code",
   "execution_count": 17,
   "metadata": {},
   "outputs": [
    {
     "name": "stdout",
     "output_type": "stream",
     "text": [
      "['Banana', 'Grapes', 'Pomegranate', 'Pomegranate']\n"
     ]
    }
   ],
   "source": [
    "# Add List Items\n",
    "new_list.append('Pomegranate')\n",
    "print(new_list)"
   ]
  },
  {
   "cell_type": "code",
   "execution_count": 19,
   "metadata": {},
   "outputs": [
    {
     "name": "stdout",
     "output_type": "stream",
     "text": [
      "['Banana', 'Pomegranate', 'Pomegranate']\n"
     ]
    }
   ],
   "source": [
    "# Remove items from list\n",
    "new_list.remove(\"Grapes\")\n",
    "print(new_list)"
   ]
  },
  {
   "cell_type": "code",
   "execution_count": 21,
   "metadata": {},
   "outputs": [
    {
     "name": "stdout",
     "output_type": "stream",
     "text": [
      "['Banana']\n"
     ]
    }
   ],
   "source": [
    "# Pop from list\n",
    "new_list.pop(1)\n",
    "print(new_list)"
   ]
  },
  {
   "cell_type": "code",
   "execution_count": 23,
   "metadata": {},
   "outputs": [
    {
     "name": "stdout",
     "output_type": "stream",
     "text": [
      "['Table', 'Chair', 'sofa']\n"
     ]
    },
    {
     "ename": "NameError",
     "evalue": "name 'furniture_list' is not defined",
     "output_type": "error",
     "traceback": [
      "\u001b[1;31m---------------------------------------------------------------------------\u001b[0m",
      "\u001b[1;31mNameError\u001b[0m                                 Traceback (most recent call last)",
      "Cell \u001b[1;32mIn[23], line 7\u001b[0m\n\u001b[0;32m      4\u001b[0m \u001b[38;5;28mprint\u001b[39m(furniture_list)\n\u001b[0;32m      6\u001b[0m \u001b[38;5;28;01mdel\u001b[39;00m furniture_list\n\u001b[1;32m----> 7\u001b[0m \u001b[38;5;28mprint\u001b[39m(\u001b[43mfurniture_list\u001b[49m)\n",
      "\u001b[1;31mNameError\u001b[0m: name 'furniture_list' is not defined"
     ]
    }
   ],
   "source": [
    "# del keyword\n",
    "furniture_list = ['Table', 'Chair', 'Bed', 'sofa']\n",
    "del furniture_list[2]\n",
    "print(furniture_list)\n",
    "\n",
    "del furniture_list\n",
    "print(furniture_list)\n"
   ]
  },
  {
   "cell_type": "code",
   "execution_count": 25,
   "metadata": {},
   "outputs": [
    {
     "name": "stdout",
     "output_type": "stream",
     "text": [
      "['rose', 'Jasmine']\n",
      "[]\n"
     ]
    }
   ],
   "source": [
    "# Use clear to empty the list\n",
    "flowers_list = [\"rose\", 'Jasmine']\n",
    "print(flowers_list)\n",
    "flowers_list.clear() # just items from the list will be removed.\n",
    "print(flowers_list)"
   ]
  },
  {
   "cell_type": "code",
   "execution_count": 29,
   "metadata": {},
   "outputs": [
    {
     "name": "stdout",
     "output_type": "stream",
     "text": [
      "rose\n",
      "Jasmine\n",
      "lilli\n"
     ]
    }
   ],
   "source": [
    "# Loop Lists\n",
    "flowers_list = [\"rose\", 'Jasmine', 'lilli']\n",
    "for i in range(len(flowers_list)):\n",
    "    print(flowers_list[i])"
   ]
  },
  {
   "cell_type": "code",
   "execution_count": 35,
   "metadata": {},
   "outputs": [
    {
     "name": "stdout",
     "output_type": "stream",
     "text": [
      "3\n",
      "rose\n",
      "Jasmine\n",
      "lilli\n"
     ]
    }
   ],
   "source": [
    "# print list using while loop\n",
    "flowers_list = [\"rose\", 'Jasmine', 'lilli']\n",
    "print(len(flowers_list))\n",
    "\n",
    "# i = 0\n",
    "while i < len(flowers_list):\n",
    "    print(flowers_list[i])\n",
    "    i+= 1"
   ]
  },
  {
   "cell_type": "code",
   "execution_count": 41,
   "metadata": {},
   "outputs": [
    {
     "data": {
      "text/plain": [
       "['rose', 'Jasmine', 'lilli']"
      ]
     },
     "execution_count": 41,
     "metadata": {},
     "output_type": "execute_result"
    }
   ],
   "source": [
    "# A short hand for loop\n",
    "flowers_list = [\"rose\", 'Jasmine', 'lilli']\n",
    "[x for x in flowers_list]"
   ]
  },
  {
   "cell_type": "code",
   "execution_count": 43,
   "metadata": {},
   "outputs": [
    {
     "name": "stdout",
     "output_type": "stream",
     "text": [
      "['hand-bag', 'hand-carry']\n"
     ]
    }
   ],
   "source": [
    "# List Comprehension\n",
    "bags_list = ['hand-bag', 'clutch', 'hand-carry']\n",
    "new_bag_list = [x for x in bags_list if 'a' in x]\n",
    "print(new_bag_list)"
   ]
  },
  {
   "cell_type": "code",
   "execution_count": 46,
   "metadata": {},
   "outputs": [
    {
     "name": "stdout",
     "output_type": "stream",
     "text": [
      "['clutch', 'hand-bag', 'hand-carry']\n",
      "[1, 2, 4, 78, 100]\n"
     ]
    }
   ],
   "source": [
    "# Sort List\n",
    "bags_list = ['hand-bag', 'clutch', 'hand-carry']\n",
    "bags_list.sort()\n",
    "print(bags_list)\n",
    "\n",
    "numbers_list = [100, 78, 1, 4, 2]\n",
    "numbers_list.sort()\n",
    "print(numbers_list)"
   ]
  },
  {
   "cell_type": "code",
   "execution_count": 48,
   "metadata": {},
   "outputs": [
    {
     "name": "stdout",
     "output_type": "stream",
     "text": [
      "[100, 78, 4, 2, 1]\n"
     ]
    }
   ],
   "source": [
    "# Sort list in Descending order\n",
    "numbers_list = [100, 78, 1, 4, 2]\n",
    "numbers_list.sort(reverse=True)\n",
    "print(numbers_list)"
   ]
  },
  {
   "cell_type": "code",
   "execution_count": 50,
   "metadata": {},
   "outputs": [
    {
     "name": "stdout",
     "output_type": "stream",
     "text": [
      "[100, 78, 1, 4, 2]\n",
      "[100, 78, 1, 4, 2]\n"
     ]
    }
   ],
   "source": [
    "# Copy List\n",
    "numbers_list = [100, 78, 1, 4, 2]\n",
    "print(numbers_list)\n",
    "new_numbers_list = numbers_list.copy()\n",
    "print(new_numbers_list)\n",
    "\n",
    "numbers_list = [100, 78, 1, 4, 2]\n",
    "print(numbers_list)\n",
    "new_numbers_list = numbers_list\n",
    "print(new_numbers_list)"
   ]
  },
  {
   "cell_type": "code",
   "execution_count": 53,
   "metadata": {},
   "outputs": [
    {
     "name": "stdout",
     "output_type": "stream",
     "text": [
      "[1, 2, 3, 4, 5, 'Samra', 'Samreen', 'Narmeen', 'Noor', 'None', 'None']\n",
      "None\n"
     ]
    }
   ],
   "source": [
    "# Joins List\n",
    "A = [1, 2, 3, 4, 5]\n",
    "B = [\"Samra\", \"Samreen\", 'Narmeen', 'Noor']\n",
    "C = [\"None\", \"None\"]\n",
    "New = A + B + C\n",
    "print(New)"
   ]
  },
  {
   "cell_type": "markdown",
   "metadata": {},
   "source": [
    "### Python Tuples"
   ]
  },
  {
   "cell_type": "code",
   "execution_count": 2,
   "metadata": {},
   "outputs": [
    {
     "name": "stdout",
     "output_type": "stream",
     "text": [
      "('Banana', 'Apple', 'Peach', 'Grapes', 'Mango')\n",
      "5\n"
     ]
    }
   ],
   "source": [
    "# Create tuple\n",
    "fruits_tuple = ('Banana', 'Apple', 'Peach', 'Grapes', 'Mango')\n",
    "print(fruits_tuple)\n",
    "print(len(fruits_tuple))"
   ]
  },
  {
   "cell_type": "code",
   "execution_count": 3,
   "metadata": {},
   "outputs": [
    {
     "name": "stdout",
     "output_type": "stream",
     "text": [
      "('ABC', 1, 100, None)\n"
     ]
    }
   ],
   "source": [
    "# Tuple with different data types\n",
    "my_tuple = (\"ABC\", 1, 100, None)\n",
    "print(my_tuple)"
   ]
  },
  {
   "cell_type": "code",
   "execution_count": 5,
   "metadata": {},
   "outputs": [
    {
     "name": "stdout",
     "output_type": "stream",
     "text": [
      "100\n"
     ]
    }
   ],
   "source": [
    "# Access Tuple\n",
    "my_tuple = (\"ABC\", 1, 100, None)\n",
    "print(my_tuple[2])"
   ]
  },
  {
   "cell_type": "code",
   "execution_count": 8,
   "metadata": {},
   "outputs": [
    {
     "name": "stdout",
     "output_type": "stream",
     "text": [
      "No, 'Kiwi' doesnot exist in fruits_tuple\n"
     ]
    }
   ],
   "source": [
    "# Check if Item Exists\n",
    "fruits_tuple = ('Banana', 'Apple', 'Peach', 'Grapes', 'Mango')\n",
    "if 'Kiwi' in fruits_tuple:\n",
    "  print(\"Yes, 'Kiwi' exist in fruits_tuple\")\n",
    "else:\n",
    "  print(\"No, 'Kiwi' doesnot exist in fruits_tuple\")"
   ]
  },
  {
   "cell_type": "code",
   "execution_count": 29,
   "metadata": {},
   "outputs": [
    {
     "name": "stdout",
     "output_type": "stream",
     "text": [
      "<class 'list'>\n",
      "2\n",
      "4\n",
      "['Banana', 'Apple', 'Peach', 'Grapes', 'Mango', 'Mango', 'Kiwi']\n",
      "['Banana', 'Apple', 'Peach', 'Grapes', 'Mango', 'Kiwi']\n",
      "['Banana', 'Peach', 'Grapes']\n",
      "['Banana', 'Peach', 'Berries', 'Grapes']\n",
      "['Banana', 'Peach', 'Grapes']\n"
     ]
    }
   ],
   "source": [
    "# Update tuple\n",
    "fruits_tuple = ('Banana', 'Apple', 'Peach', 'Grapes', 'Mango', 'Mango')\n",
    "fruits_tuple_new = list(fruits_tuple) # Convert tuple to list to update its values.\n",
    "print(type(fruits_tuple_new))\n",
    "\n",
    "print(fruits_tuple_new.count(\"Mango\"))\n",
    "\n",
    "print(fruits_tuple_new.index(\"Mango\"))\n",
    "\n",
    "fruits_tuple_new.append(\"Kiwi\")\n",
    "print(fruits_tuple_new)\n",
    "\n",
    "fruits_tuple_new.remove(\"Mango\")\n",
    "print(fruits_tuple_new) # remove method remove only the first item not all items in list.\n",
    "\n",
    "fruits_tuple = ['Banana', 'Mango', 'Peach', 'Grapes', 'Mango', 'Mango']\n",
    "for fruit in fruits_tuple[:]:\n",
    "    if fruit == 'Mango':\n",
    "        fruits_tuple.remove(fruit)\n",
    "print(fruits_tuple)\n",
    "\n",
    "fruits_tuple.insert(2, \"Berries\")\n",
    "print(fruits_tuple)\n",
    "\n",
    "fruits_tuple.pop(2)\n",
    "print(fruits_tuple)"
   ]
  },
  {
   "cell_type": "code",
   "execution_count": 30,
   "metadata": {},
   "outputs": [
    {
     "name": "stdout",
     "output_type": "stream",
     "text": [
      "['Apple', None, 1, 2, 3, '', 'Saam']\n"
     ]
    }
   ],
   "source": [
    "# Add two tuples\n",
    "A = [\"Apple\", None, 1, 2, 3]\n",
    "B = [\"\", \"Saam\"]\n",
    "print(A+B)"
   ]
  },
  {
   "cell_type": "code",
   "execution_count": 33,
   "metadata": {},
   "outputs": [
    {
     "name": "stdout",
     "output_type": "stream",
     "text": [
      "('Shaami',)\n",
      "<class 'tuple'>\n"
     ]
    }
   ],
   "source": [
    "# How to declare a tuple with single value\n",
    "one_element_tuple = ('Shaami', ) # If you have a one element then add , in order to make it a tuple otherwise it is a string\n",
    "print(one_element_tuple)\n",
    "print(type(one_element_tuple))"
   ]
  },
  {
   "cell_type": "code",
   "execution_count": 42,
   "metadata": {},
   "outputs": [
    {
     "name": "stdout",
     "output_type": "stream",
     "text": [
      "Banana\n",
      "['Mango', 'Peach']\n",
      "Grapes\n",
      "Berries\n"
     ]
    }
   ],
   "source": [
    "# Unpack a tuple\n",
    "fruits_tuple = ('Banana', 'Mango', 'Peach', 'Grapes', \"Berries\")\n",
    "(a, *b, c, d) = fruits_tuple\n",
    "print(a)\n",
    "print(b)\n",
    "print(c)\n",
    "print(d)"
   ]
  },
  {
   "cell_type": "code",
   "execution_count": 47,
   "metadata": {},
   "outputs": [
    {
     "name": "stdout",
     "output_type": "stream",
     "text": [
      "(1, 2, 3, 1, 2, 3)\n"
     ]
    }
   ],
   "source": [
    "# Multiply Tuples\n",
    "my_tuple = (\"Saam\", \"Shaami\") # When you multiply a number with the tuple it means it will be * time duplicate.\n",
    "my_new_tuple = my_tuple*2\n",
    "print(my_new_tuple)"
   ]
  },
  {
   "cell_type": "markdown",
   "metadata": {},
   "source": [
    "### Python Sets"
   ]
  },
  {
   "cell_type": "code",
   "execution_count": 49,
   "metadata": {},
   "outputs": [
    {
     "name": "stdout",
     "output_type": "stream",
     "text": [
      "{'You', 'We', 'Me'}\n",
      "3\n"
     ]
    }
   ],
   "source": [
    "# Create a set \n",
    "my_set = {\"You\", \"Me\", \"We\"}\n",
    "print(my_set)\n",
    "print(len(my_set))"
   ]
  },
  {
   "cell_type": "code",
   "execution_count": 57,
   "metadata": {},
   "outputs": [
    {
     "name": "stdout",
     "output_type": "stream",
     "text": [
      "You\n",
      "We\n",
      "Me\n"
     ]
    }
   ],
   "source": [
    "# Access set items\n",
    "for e in my_set:\n",
    "    print(e)"
   ]
  },
  {
   "cell_type": "code",
   "execution_count": 64,
   "metadata": {},
   "outputs": [
    {
     "name": "stdout",
     "output_type": "stream",
     "text": [
      "{'Hum', 'You', 'We', 'Me'}\n",
      "{'Hum', 'Me', 'Her', 'His', 'We', 'You'}\n"
     ]
    }
   ],
   "source": [
    "# Add items\n",
    "my_set = {\"You\", \"Me\", \"We\"}\n",
    "my_set.add(\"Hum\")\n",
    "print(my_set)\n",
    "\n",
    "# Update items\n",
    "my_Set = {\"Her\", \"His\"}\n",
    "my_set.update(my_Set)\n",
    "print(my_set)"
   ]
  },
  {
   "cell_type": "code",
   "execution_count": 68,
   "metadata": {},
   "outputs": [
    {
     "name": "stdout",
     "output_type": "stream",
     "text": [
      "{'She', 'He', 'Me', 'You'}\n",
      "{'He', 'Me', 'You'}\n"
     ]
    }
   ],
   "source": [
    "# Remove items\n",
    "my_set = {\"You\", \"Me\", \"We\", \"He\", \"She\"}\n",
    "my_set.remove(\"We\")\n",
    "print(my_set)\n",
    "\n",
    "my_set.pop()\n",
    "print(my_set)"
   ]
  },
  {
   "cell_type": "code",
   "execution_count": 78,
   "metadata": {},
   "outputs": [
    {
     "name": "stdout",
     "output_type": "stream",
     "text": [
      "{1, 2, 3, 4, 5, 6, 7, 8, 9}\n",
      "{4, 5, 6}\n"
     ]
    }
   ],
   "source": [
    "# Join Sets\n",
    "set1 = {1, 2, 3}\n",
    "set2 = {4, 5, 6, 3}\n",
    "set3 = {7, 8, 9}\n",
    "new_set = set1.union(set2, set3)\n",
    "print(new_set)\n",
    "\n",
    "diff = set2.difference(set1)\n",
    "print(diff)"
   ]
  },
  {
   "cell_type": "code",
   "execution_count": 77,
   "metadata": {},
   "outputs": [
    {
     "name": "stdout",
     "output_type": "stream",
     "text": [
      "{3}\n"
     ]
    }
   ],
   "source": [
    "# Intersection of two sets\n",
    "set1 = {1, 2, 3}\n",
    "set2 = {4, 5, 6, 3}\n",
    "inter = set1.intersection(set2)\n",
    "print(inter)"
   ]
  },
  {
   "cell_type": "markdown",
   "metadata": {},
   "source": [
    "### Python Dictionaries"
   ]
  },
  {
   "cell_type": "code",
   "execution_count": 83,
   "metadata": {},
   "outputs": [
    {
     "name": "stdout",
     "output_type": "stream",
     "text": [
      "{'Name': 'Samreen', 'Job_Type': 'AI Engineer', 'Degree': 'BS Computer Engineering'}\n",
      "3\n"
     ]
    }
   ],
   "source": [
    "# Create a dictionary\n",
    "my_dict ={\n",
    "    \"Name\":\"Samreen\",\n",
    "    \"Job_Type\": \"AI Engineer\",\n",
    "    \"Degree\": \"BS Computer Engineering\"\n",
    "}\n",
    "print(my_dict)\n",
    "print(len(my_dict))"
   ]
  },
  {
   "cell_type": "code",
   "execution_count": 1,
   "metadata": {},
   "outputs": [
    {
     "name": "stdout",
     "output_type": "stream",
     "text": [
      "{'Name': 'Samreen', 'Job_Type': 'AI Engineer', 'Degree': 'BS Computer Engineering', 'My_Fave_Colors': ['Pink', 'White', 'Black']}\n",
      "AI Engineer\n",
      "Pink\n"
     ]
    }
   ],
   "source": [
    "# Dictionary Items\n",
    "my_dict ={\n",
    "    \"Name\":\"Samreen\",\n",
    "    \"Job_Type\": \"AI Engineer\",\n",
    "    \"Degree\": \"BS Computer Engineering\",\n",
    "    \"My_Fave_Colors\": [\"Pink\", \"White\", \"Black\"]\n",
    "}\n",
    "print(my_dict)\n",
    "print(my_dict[\"Job_Type\"])\n",
    "print(my_dict[\"My_Fave_Colors\"][0])\n"
   ]
  },
  {
   "cell_type": "code",
   "execution_count": 2,
   "metadata": {},
   "outputs": [
    {
     "name": "stdout",
     "output_type": "stream",
     "text": [
      "dict_keys(['Name', 'Job_Type', 'Degree', 'My_Fave_Colors'])\n",
      "dict_values(['Samreen', 'AI Engineer', 'BS Computer Engineering', ['Pink', 'White', 'Black']])\n",
      "dict_items([('Name', 'Samreen'), ('Job_Type', 'AI Engineer'), ('Degree', 'BS Computer Engineering'), ('My_Fave_Colors', ['Pink', 'White', 'Black'])])\n",
      "{'Name': 'Samreen', 'Job_Type': 'AI Engineer', 'Degree': 'MS(CE)', 'My_Fave_Colors': ['Pink', 'White', 'Black']}\n"
     ]
    }
   ],
   "source": [
    "# Access dict keys and values\n",
    "print(my_dict.keys())\n",
    "print(my_dict.values())\n",
    "print(my_dict.items())\n",
    "\n",
    "# change any value of the dict\n",
    "my_dict[\"Degree\"] = \"MS(CE)\"\n",
    "print(my_dict)"
   ]
  },
  {
   "cell_type": "code",
   "execution_count": 3,
   "metadata": {},
   "outputs": [
    {
     "name": "stdout",
     "output_type": "stream",
     "text": [
      "{'Name': 'Shaami', 'Job_Type': 'AI Engineer', 'Degree': 'MS(CE)', 'My_Fave_Colors': ['Pink', 'White', 'Black']}\n"
     ]
    }
   ],
   "source": [
    "# Update dict\n",
    "my_dict.update({\"Name\": \"Shaami\"})\n",
    "print(my_dict)"
   ]
  },
  {
   "cell_type": "code",
   "execution_count": 4,
   "metadata": {},
   "outputs": [
    {
     "name": "stdout",
     "output_type": "stream",
     "text": [
      "MS(CE)\n"
     ]
    }
   ],
   "source": [
    "# Remove Items\n",
    "new_dict = my_dict.pop(\"Degree\")\n",
    "print(new_dict)"
   ]
  },
  {
   "cell_type": "code",
   "execution_count": 9,
   "metadata": {},
   "outputs": [
    {
     "name": "stdout",
     "output_type": "stream",
     "text": [
      "Name\n",
      "Job_Type\n",
      "Degree\n",
      "My_Fave_Colors\n"
     ]
    }
   ],
   "source": [
    "# Loop Dict\n",
    "my_dict ={\n",
    "    \"Name\":\"Samreen\",\n",
    "    \"Job_Type\": \"AI Engineer\",\n",
    "    \"Degree\": \"BS Computer Engineering\",\n",
    "    \"My_Fave_Colors\": [\"Pink\", \"White\", \"Black\"]\n",
    "}\n",
    "for k, v in my_dict.items():\n",
    "    print(k,v)\n",
    "\n",
    "# print values one by one using loop\n",
    "for x in my_dict.values():\n",
    "    print(x)\n",
    "\n",
    "# print keys one by one using loop\n",
    "for x in my_dict.keys():\n",
    "    print(x)"
   ]
  },
  {
   "cell_type": "code",
   "execution_count": 11,
   "metadata": {},
   "outputs": [
    {
     "name": "stdout",
     "output_type": "stream",
     "text": [
      "{'Name': 'Samreen', 'Job_Type': 'AI Engineer', 'Degree': 'BS Computer Engineering', 'My_Fave_Colors': ['Pink', 'White', 'Black']}\n",
      "{'Name': 'Samreen', 'Job_Type': 'AI Engineer', 'Degree': 'BS Computer Engineering', 'My_Fave_Colors': ['Pink', 'White', 'Black']}\n"
     ]
    }
   ],
   "source": [
    "# Copy Dictionaries\n",
    "my_dict ={\n",
    "    \"Name\":\"Samreen\",\n",
    "    \"Job_Type\": \"AI Engineer\",\n",
    "    \"Degree\": \"BS Computer Engineering\",\n",
    "    \"My_Fave_Colors\": [\"Pink\", \"White\", \"Black\"]\n",
    "}\n",
    "new_dict = my_dict\n",
    "print(new_dict)\n",
    "\n",
    "new_dict = my_dict.copy()\n",
    "print(new_dict)"
   ]
  },
  {
   "cell_type": "code",
   "execution_count": 14,
   "metadata": {},
   "outputs": [
    {
     "name": "stdout",
     "output_type": "stream",
     "text": [
      "samreen\n",
      "{'child1': {'Name': 'samreen'}, 'child2': {'Name': 'saam'}, 'child3': {'Name': 'shaami'}}\n"
     ]
    }
   ],
   "source": [
    "# Nested Dictionaries\n",
    "my_family = {\n",
    "    \"child1\":\n",
    "        {\n",
    "            \"Name\": \"samreen\"\n",
    "        },\n",
    "    \"child2\":\n",
    "        {\n",
    "            \"Name\": \"saam\"\n",
    "        },\n",
    "    \"child3\":\n",
    "        {\n",
    "            \"Name\": \"shaami\"\n",
    "        },\n",
    "}\n",
    "print(my_family[\"child1\"][\"Name\"])\n",
    "\n",
    "my_new_family = {\n",
    "    \"child1\": my_family[\"child1\"],\n",
    "    \"child2\": my_family[\"child2\"],\n",
    "    \"child3\": my_family[\"child3\"]\n",
    "}\n",
    "print(my_new_family)"
   ]
  }
 ],
 "metadata": {
  "kernelspec": {
   "display_name": "Python 3",
   "language": "python",
   "name": "python3"
  },
  "language_info": {
   "codemirror_mode": {
    "name": "ipython",
    "version": 3
   },
   "file_extension": ".py",
   "mimetype": "text/x-python",
   "name": "python",
   "nbconvert_exporter": "python",
   "pygments_lexer": "ipython3",
   "version": "3.11.9"
  }
 },
 "nbformat": 4,
 "nbformat_minor": 2
}
