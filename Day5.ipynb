{
 "cells": [
  {
   "cell_type": "markdown",
   "metadata": {},
   "source": [
    "# Day5 ('Iterators', 'Polymorphism', 'Scope')"
   ]
  },
  {
   "cell_type": "code",
   "execution_count": 5,
   "metadata": {},
   "outputs": [
    {
     "name": "stdout",
     "output_type": "stream",
     "text": [
      "1\n",
      "Samreen\n",
      "None\n"
     ]
    }
   ],
   "source": [
    "# Iterators\n",
    "\n",
    "# List, Tuple, Dict and Set all are iterable objects \n",
    "my_list = [1, \"Samreen\", None]\n",
    "iter_list = iter(my_list)\n",
    "print(next(iter_list))\n",
    "print(next(iter_list))\n",
    "print(next(iter_list))"
   ]
  },
  {
   "cell_type": "code",
   "execution_count": 8,
   "metadata": {},
   "outputs": [
    {
     "name": "stdout",
     "output_type": "stream",
     "text": [
      "Samreen\n",
      "Malik\n"
     ]
    }
   ],
   "source": [
    "# Polymorphism\n",
    "\n",
    "class class_one:\n",
    "    def __init__(self, name):\n",
    "        self.name = name\n",
    "    def print(self):\n",
    "        print(self.name)\n",
    "\n",
    "class class_two:\n",
    "    def __init__(self, name):\n",
    "        self.name = name\n",
    "    def print(self):\n",
    "        print(self.name)\n",
    "\n",
    "\n",
    "c1 = class_one(\"Samreen\")\n",
    "c2 = class_two(\"Malik\")\n",
    "\n",
    "for c in (c1, c2):\n",
    "    c.print()"
   ]
  },
  {
   "cell_type": "code",
   "execution_count": 11,
   "metadata": {},
   "outputs": [
    {
     "name": "stdout",
     "output_type": "stream",
     "text": [
      "My name is Samreen\n",
      "My name is Samreen\n"
     ]
    }
   ],
   "source": [
    "# Scope\n",
    "\n",
    "def my_fun():\n",
    "    name = \"Samreen\"\n",
    "    print(\"My name is\", name)\n",
    "\n",
    "    def another_func():\n",
    "        print(\"My name is\", name) # name can be accesses in inner loop\n",
    "    another_func()\n",
    "\n",
    "my_fun()"
   ]
  },
  {
   "cell_type": "code",
   "execution_count": 12,
   "metadata": {},
   "outputs": [
    {
     "name": "stdout",
     "output_type": "stream",
     "text": [
      "My name is Samreen\n",
      "My name is Malik\n"
     ]
    }
   ],
   "source": [
    "# nonlocal keyword \n",
    "\n",
    "def my_fun():\n",
    "    name = \"Samreen\"\n",
    "    print(\"My name is\", name)\n",
    "\n",
    "    def another_func():\n",
    "        nonlocal name  # use nonlocal keyword to change the value of local variable 'name'\n",
    "        name = \"Malik\"\n",
    "        print(\"My name is\", name) # name can be accesses in inner loop\n",
    "    another_func()\n",
    "\n",
    "my_fun()"
   ]
  }
 ],
 "metadata": {
  "kernelspec": {
   "display_name": "100",
   "language": "python",
   "name": "python3"
  },
  "language_info": {
   "codemirror_mode": {
    "name": "ipython",
    "version": 3
   },
   "file_extension": ".py",
   "mimetype": "text/x-python",
   "name": "python",
   "nbconvert_exporter": "python",
   "pygments_lexer": "ipython3",
   "version": "3.11.9"
  }
 },
 "nbformat": 4,
 "nbformat_minor": 2
}
