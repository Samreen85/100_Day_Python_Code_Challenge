{
 "cells": [
  {
   "cell_type": "markdown",
   "metadata": {},
   "source": [
    "# Day6('Modules', 'Dates', 'Math', 'JSON')"
   ]
  },
  {
   "cell_type": "code",
   "execution_count": 15,
   "metadata": {},
   "outputs": [
    {
     "name": "stdout",
     "output_type": "stream",
     "text": [
      "Here is the demo\n",
      "Here is the demo\n"
     ]
    }
   ],
   "source": [
    "# Module\n",
    "\n",
    "# built in module(library)\n",
    "import time \n",
    "\n",
    "# create a module and import 'demo' function from it\n",
    "from demo import demo\n",
    "demo()\n",
    "\n",
    "# just import module\n",
    "import demo\n",
    "demo.demo()"
   ]
  },
  {
   "cell_type": "code",
   "execution_count": 23,
   "metadata": {},
   "outputs": [
    {
     "name": "stdout",
     "output_type": "stream",
     "text": [
      "2024-09-30 00:27:47.981558\n",
      "2024\n",
      "30\n",
      "0\n",
      "1995-09-06 00:00:00\n",
      "1995\n"
     ]
    }
   ],
   "source": [
    "# Dates Module\n",
    "import datetime\n",
    "date_now = datetime.datetime.now()\n",
    "print(date_now)\n",
    "print(date_now.year) # year\n",
    "print(date_now.day) # date/day\n",
    "print(date_now.hour) # hour\n",
    "\n",
    "# Format date\n",
    "formatted_date = datetime.datetime(1995, 9, 6)\n",
    "print(formatted_date)\n",
    "print(formatted_date.year)"
   ]
  },
  {
   "cell_type": "code",
   "execution_count": 28,
   "metadata": {},
   "outputs": [
    {
     "name": "stdout",
     "output_type": "stream",
     "text": [
      "2024\n",
      "September\n",
      "30\n",
      "09/30/24\n"
     ]
    }
   ],
   "source": [
    "# srftime\n",
    "date_now = datetime.datetime.now()\n",
    "print(date_now.strftime(\"%Y\"))\n",
    "print(date_now.strftime(\"%B\"))\n",
    "print(date_now.strftime(\"%d\"))\n",
    "print(date_now.strftime(\"%D\"))"
   ]
  },
  {
   "cell_type": "code",
   "execution_count": 39,
   "metadata": {},
   "outputs": [
    {
     "name": "stdout",
     "output_type": "stream",
     "text": [
      "8.0\n",
      "3.0\n",
      "2\n",
      "1\n",
      "3.141592653589793\n"
     ]
    }
   ],
   "source": [
    "# Math module\n",
    "\n",
    "# builtin math functions\n",
    "my_list = [1, 5, 100, 1000, 00, 99]\n",
    "print(min(my_list))\n",
    "print(max(my_list))\n",
    "print(pow(2, 3)) # 2*2*2 = 8\n",
    "print(abs(-7.34))\n",
    "\n",
    "\n",
    "# Using math module\n",
    "import math\n",
    "print(math.pow(2,3))\n",
    "print(math.sqrt(9))\n",
    "\n",
    "print(math.ceil(1.6)) # round high\n",
    "print(math.floor(1.6)) # round low\n",
    "print(math.pi)"
   ]
  },
  {
   "cell_type": "code",
   "execution_count": 44,
   "metadata": {},
   "outputs": [
    {
     "name": "stdout",
     "output_type": "stream",
     "text": [
      "[1, 2, 3, 4, 5]\n"
     ]
    }
   ],
   "source": [
    "# JSON\n",
    "\n",
    "# json dumps\n",
    "import json\n",
    "my_list = [1, 2, 3, 4, 5]\n",
    "print(json.dumps(my_list)) # json dumps return a string\n",
    "\n",
    "# simple dump\n",
    "with open(\"simple_list.json\", 'w') as f:\n",
    "    json.dump(my_list, f, indent = 4)"
   ]
  }
 ],
 "metadata": {
  "kernelspec": {
   "display_name": "100",
   "language": "python",
   "name": "python3"
  },
  "language_info": {
   "codemirror_mode": {
    "name": "ipython",
    "version": 3
   },
   "file_extension": ".py",
   "mimetype": "text/x-python",
   "name": "python",
   "nbconvert_exporter": "python",
   "pygments_lexer": "ipython3",
   "version": "3.11.9"
  }
 },
 "nbformat": 4,
 "nbformat_minor": 2
}
