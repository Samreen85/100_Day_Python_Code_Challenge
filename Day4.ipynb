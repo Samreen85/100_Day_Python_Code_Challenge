{
 "cells": [
  {
   "cell_type": "markdown",
   "metadata": {},
   "source": [
    "# Day4 ('lambda', 'Arrays', 'Classes/Objects')"
   ]
  },
  {
   "cell_type": "markdown",
   "metadata": {},
   "source": [
    "### Lambda"
   ]
  },
  {
   "cell_type": "code",
   "execution_count": 10,
   "metadata": {},
   "outputs": [
    {
     "name": "stdout",
     "output_type": "stream",
     "text": [
      "25\n"
     ]
    }
   ],
   "source": [
    "# Python Lambda\n",
    "a_square = lambda a : a * a\n",
    "print(a_square(5))"
   ]
  },
  {
   "cell_type": "code",
   "execution_count": 11,
   "metadata": {},
   "outputs": [
    {
     "name": "stdout",
     "output_type": "stream",
     "text": [
      "11\n"
     ]
    }
   ],
   "source": [
    "# Add using lambda\n",
    "add = lambda a, b : a + b\n",
    "print(add(5,6))"
   ]
  },
  {
   "cell_type": "code",
   "execution_count": 12,
   "metadata": {},
   "outputs": [
    {
     "name": "stdout",
     "output_type": "stream",
     "text": [
      "5\n"
     ]
    }
   ],
   "source": [
    "# Lambda Functions\n",
    "def my_func(n):\n",
    "    return lambda a : a + n\n",
    "l1 = my_func(3)\n",
    "print(l1(2))"
   ]
  },
  {
   "cell_type": "markdown",
   "metadata": {},
   "source": [
    "### Python Arrays"
   ]
  },
  {
   "cell_type": "code",
   "execution_count": 13,
   "metadata": {},
   "outputs": [
    {
     "name": "stdout",
     "output_type": "stream",
     "text": [
      "[1, 2, 3, 4, 5]\n"
     ]
    }
   ],
   "source": [
    "# Python doesnot have builtin support for arrays but python list can be used instead. Array contains elements of the same data type.\n",
    "array = [1, 2, 3, 4, 5]\n",
    "print(array)"
   ]
  },
  {
   "cell_type": "markdown",
   "metadata": {},
   "source": [
    "### Python Classes and Objects"
   ]
  },
  {
   "cell_type": "code",
   "execution_count": 15,
   "metadata": {},
   "outputs": [
    {
     "name": "stdout",
     "output_type": "stream",
     "text": [
      "Samreen Malik\n",
      "24\n"
     ]
    }
   ],
   "source": [
    "# Create a class name my_class\n",
    "class my_class:\n",
    "    def __init__(self, fname, lname, age):\n",
    "        self.fname = fname\n",
    "        self.lname = lname\n",
    "        self.age = age\n",
    "\n",
    "p1 = my_class(\"Samreen\", \"Malik\", 24) # Create instance/object of my class name p1.\n",
    "print(p1.fname, p1.lname)\n",
    "print(p1.age)"
   ]
  },
  {
   "cell_type": "code",
   "execution_count": 22,
   "metadata": {},
   "outputs": [
    {
     "name": "stdout",
     "output_type": "stream",
     "text": [
      "my name is:  Samreen Malik\n",
      "my age is:  25\n",
      "None\n",
      "my name is:  Samreen Malik\n"
     ]
    },
    {
     "ename": "AttributeError",
     "evalue": "'my_class' object has no attribute 'age'",
     "output_type": "error",
     "traceback": [
      "\u001b[1;31m---------------------------------------------------------------------------\u001b[0m",
      "\u001b[1;31mAttributeError\u001b[0m                            Traceback (most recent call last)",
      "Cell \u001b[1;32mIn[22], line 18\u001b[0m\n\u001b[0;32m     16\u001b[0m \u001b[38;5;66;03m# del attribute 'age' of p1 object\u001b[39;00m\n\u001b[0;32m     17\u001b[0m \u001b[38;5;28;01mdel\u001b[39;00m p1\u001b[38;5;241m.\u001b[39mage\n\u001b[1;32m---> 18\u001b[0m \u001b[38;5;28mprint\u001b[39m(\u001b[43mp1\u001b[49m\u001b[38;5;241;43m.\u001b[39;49m\u001b[43mprint\u001b[49m\u001b[43m(\u001b[49m\u001b[43m)\u001b[49m)\n\u001b[0;32m     20\u001b[0m \u001b[38;5;66;03m# del object p1\u001b[39;00m\n\u001b[0;32m     21\u001b[0m \u001b[38;5;28;01mdel\u001b[39;00m p1\n",
      "Cell \u001b[1;32mIn[22], line 10\u001b[0m, in \u001b[0;36mmy_class.print\u001b[1;34m(self)\u001b[0m\n\u001b[0;32m      8\u001b[0m \u001b[38;5;28;01mdef\u001b[39;00m \u001b[38;5;21mprint\u001b[39m(\u001b[38;5;28mself\u001b[39m):\n\u001b[0;32m      9\u001b[0m     \u001b[38;5;28mprint\u001b[39m(\u001b[38;5;124m\"\u001b[39m\u001b[38;5;124mmy name is: \u001b[39m\u001b[38;5;124m\"\u001b[39m, \u001b[38;5;28mself\u001b[39m\u001b[38;5;241m.\u001b[39mfname, \u001b[38;5;28mself\u001b[39m\u001b[38;5;241m.\u001b[39mlname)\n\u001b[1;32m---> 10\u001b[0m     \u001b[38;5;28mprint\u001b[39m(\u001b[38;5;124m\"\u001b[39m\u001b[38;5;124mmy age is: \u001b[39m\u001b[38;5;124m\"\u001b[39m, \u001b[38;5;28;43mself\u001b[39;49m\u001b[38;5;241;43m.\u001b[39;49m\u001b[43mage\u001b[49m)\n",
      "\u001b[1;31mAttributeError\u001b[0m: 'my_class' object has no attribute 'age'"
     ]
    }
   ],
   "source": [
    "# Object Methods\n",
    "class my_class:\n",
    "    def __init__(self, fname, lname, age):\n",
    "        self.fname = fname\n",
    "        self.lname = lname\n",
    "        self.age = age\n",
    "    \n",
    "    def print(self):\n",
    "        print(\"my name is: \", self.fname, self.lname)\n",
    "        print(\"my age is: \", self.age)\n",
    "\n",
    "p1 = my_class(\"Samreen\", \"Malik\", 24) # Create instance/object of my class name p1.\n",
    "p1.age = 25\n",
    "print(p1.print())\n",
    "\n",
    "# del attribute 'age' of p1 object\n",
    "del p1.age\n",
    "print(p1.print())\n",
    "\n",
    "# del object p1\n",
    "del p1\n",
    "print(p1.print())"
   ]
  },
  {
   "cell_type": "markdown",
   "metadata": {},
   "source": [
    "### Python Inheritance"
   ]
  },
  {
   "cell_type": "code",
   "execution_count": 26,
   "metadata": {},
   "outputs": [
    {
     "name": "stdout",
     "output_type": "stream",
     "text": [
      "name is:  Samreen\n",
      "age is: 24\n",
      "None\n",
      "name is:  Shehraam\n",
      "age is: 2\n",
      "None\n",
      "1\n"
     ]
    }
   ],
   "source": [
    "# Python Inheritance. Make a parent class and a child class and inherit all the attributes and methods from the parent class\n",
    "class parent:\n",
    "    def __init__(self, name, age):\n",
    "        self.name = name\n",
    "        self.age = age\n",
    "    \n",
    "    def print(self):\n",
    "        print(\"name is: \", self.name)\n",
    "        print(\"age is:\", self.age)\n",
    "\n",
    "class child(parent):\n",
    "    def __init__(self, name, age):\n",
    "        parent.__init__(self, name, age)\n",
    "        # super().__init__(name, age)\n",
    "        self.grade = 1\n",
    "\n",
    "p1 = parent(\"Samreen\", \"24\")\n",
    "print(p1.print())\n",
    "\n",
    "c1 = child(\"Shehraam\", \"2\")\n",
    "print(c1.print())\n",
    "print(c1.grade)"
   ]
  }
 ],
 "metadata": {
  "kernelspec": {
   "display_name": "Python 3",
   "language": "python",
   "name": "python3"
  },
  "language_info": {
   "codemirror_mode": {
    "name": "ipython",
    "version": 3
   },
   "file_extension": ".py",
   "mimetype": "text/x-python",
   "name": "python",
   "nbconvert_exporter": "python",
   "pygments_lexer": "ipython3",
   "version": "3.11.9"
  }
 },
 "nbformat": 4,
 "nbformat_minor": 2
}
