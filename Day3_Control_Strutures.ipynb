{
 "cells": [
  {
   "cell_type": "markdown",
   "metadata": {},
   "source": [
    "# Day3(Control Strucutres)\n",
    "### 'if....else', 'for loop', 'while loop', 'functions'"
   ]
  },
  {
   "cell_type": "code",
   "execution_count": 12,
   "metadata": {},
   "outputs": [],
   "source": [
    "# if......else\n",
    "a = int(input(\"Enter value of a: \"))\n",
    "b = int(input(\"Enter value of b: \"))\n",
    "if a > b:\n",
    "    print(\"a is greater than b\")\n",
    "elif a < b:\n",
    "     print(\"a is less than b\")\n",
    "else:\n",
    "     print(\"a is equal to b\")"
   ]
  },
  {
   "cell_type": "code",
   "execution_count": 13,
   "metadata": {},
   "outputs": [
    {
     "name": "stdout",
     "output_type": "stream",
     "text": [
      "a is less than or equal to b\n"
     ]
    }
   ],
   "source": [
    "# if else statement in one line\n",
    "print(\"a is greater than b\") if a > b else print(\"a is equal to b\")"
   ]
  },
  {
   "cell_type": "code",
   "execution_count": 16,
   "metadata": {},
   "outputs": [
    {
     "name": "stdout",
     "output_type": "stream",
     "text": [
      "1\n",
      "2\n",
      "3\n",
      "4\n",
      "5\n",
      "6\n",
      "7\n",
      "8\n",
      "9\n"
     ]
    }
   ],
   "source": [
    "# While loop\n",
    "i = 1\n",
    "while i in range(10):\n",
    "    print(i)\n",
    "    i = i+1"
   ]
  },
  {
   "cell_type": "code",
   "execution_count": 19,
   "metadata": {},
   "outputs": [
    {
     "name": "stdout",
     "output_type": "stream",
     "text": [
      "1\n"
     ]
    }
   ],
   "source": [
    "# The break Statement\n",
    "i = 1\n",
    "while i < 6:\n",
    "  print(i)\n",
    "  if i == 3:\n",
    "    break\n",
    "  i += 1"
   ]
  },
  {
   "cell_type": "code",
   "execution_count": 11,
   "metadata": {},
   "outputs": [
    {
     "name": "stdout",
     "output_type": "stream",
     "text": [
      "2\n",
      "3\n",
      "4\n",
      "5\n",
      "6\n"
     ]
    }
   ],
   "source": [
    "# The continue Statement\n",
    "i = 1\n",
    "while i < 6:\n",
    "  i+= 1\n",
    "  print(i)\n",
    "  if i == 3:\n",
    "    continue"
   ]
  },
  {
   "cell_type": "code",
   "execution_count": 12,
   "metadata": {},
   "outputs": [
    {
     "name": "stdout",
     "output_type": "stream",
     "text": [
      "1\n",
      "2\n",
      "3\n",
      "4\n",
      "5\n",
      "6\n",
      "7\n",
      "8\n",
      "9\n",
      "i is no longer less than 10\n"
     ]
    }
   ],
   "source": [
    "# Else statement\n",
    "i = 1\n",
    "while i in range(10):\n",
    "    print(i)\n",
    "    i = i+1\n",
    "else:\n",
    "    print(\"i is no longer less than 10\")"
   ]
  },
  {
   "cell_type": "code",
   "execution_count": 13,
   "metadata": {},
   "outputs": [
    {
     "name": "stdout",
     "output_type": "stream",
     "text": [
      "value of i is:  1\n",
      "value of i is:  2\n",
      "value of i is:  3\n",
      "value of i is:  4\n",
      "value of i is:  5\n",
      "value of i is:  6\n",
      "value of i is:  7\n",
      "value of i is:  8\n",
      "value of i is:  9\n"
     ]
    }
   ],
   "source": [
    "# for loop\n",
    "for i in range(1, 10):\n",
    "    print(\"value of i is: \",i)"
   ]
  },
  {
   "cell_type": "code",
   "execution_count": 15,
   "metadata": {},
   "outputs": [
    {
     "name": "stdout",
     "output_type": "stream",
     "text": [
      "value of i is:  1\n",
      "value of i is:  3\n",
      "value of i is:  5\n",
      "value of i is:  7\n",
      "value of i is:  9\n",
      "value of i is:  11\n",
      "value of i is:  13\n",
      "value of i is:  15\n",
      "value of i is:  17\n",
      "value of i is:  19\n",
      "value of i is:  21\n",
      "value of i is:  23\n",
      "value of i is:  25\n",
      "value of i is:  27\n",
      "value of i is:  29\n",
      "value of i is:  31\n",
      "value of i is:  33\n",
      "value of i is:  35\n",
      "value of i is:  37\n",
      "value of i is:  39\n",
      "value of i is:  41\n",
      "value of i is:  43\n",
      "value of i is:  45\n",
      "value of i is:  47\n",
      "value of i is:  49\n"
     ]
    }
   ],
   "source": [
    "# for loop\n",
    "for i in range(1, 50, 2): # increment by 2 by default increment is 1 in range.\n",
    "    print(\"value of i is: \",i)"
   ]
  },
  {
   "cell_type": "code",
   "execution_count": 16,
   "metadata": {},
   "outputs": [
    {
     "name": "stdout",
     "output_type": "stream",
     "text": [
      "5\n",
      "6\n",
      "7\n",
      "8\n",
      "9\n",
      "conditioned false\n"
     ]
    }
   ],
   "source": [
    "# else in for loop\n",
    "for x in range(5,10):\n",
    "    print(x)\n",
    "else:\n",
    "    print(\"conditioned false\")"
   ]
  },
  {
   "cell_type": "code",
   "execution_count": 19,
   "metadata": {},
   "outputs": [
    {
     "name": "stdout",
     "output_type": "stream",
     "text": [
      "1 hello\n",
      "1 world\n",
      "1 wow\n",
      "2 hello\n",
      "2 world\n",
      "2 wow\n",
      "3 hello\n",
      "3 world\n",
      "3 wow\n"
     ]
    }
   ],
   "source": [
    "# Nested Loops\n",
    "x = [1, 2, 3]\n",
    "y = [\"hello\", \"world\", \"wow\"]\n",
    "for X in x:\n",
    "    for Y in y:\n",
    "        print(X, Y)"
   ]
  },
  {
   "cell_type": "code",
   "execution_count": 20,
   "metadata": {},
   "outputs": [],
   "source": [
    "# pass in loop\n",
    "for i in range(1,3):\n",
    "    pass # when you want nothing in loop then simple write pass becuase as loop can't be empty."
   ]
  },
  {
   "cell_type": "code",
   "execution_count": 27,
   "metadata": {},
   "outputs": [
    {
     "name": "stdout",
     "output_type": "stream",
     "text": [
      "my name is Shaami\n",
      "I am 30\n"
     ]
    }
   ],
   "source": [
    "# Python Functions\n",
    "def my_func(name, age):\n",
    "    print(\"my name is\", name)\n",
    "    print(\"I am\", age)\n",
    "\n",
    "name = input(\"Enter name: \")\n",
    "age = input(\"Enter age: \")\n",
    "my_func(name, age)"
   ]
  },
  {
   "cell_type": "code",
   "execution_count": 31,
   "metadata": {},
   "outputs": [
    {
     "name": "stdout",
     "output_type": "stream",
     "text": [
      "my name is ali\n",
      "I am 30\n",
      "my name is Saam\n",
      "I am 24\n"
     ]
    }
   ],
   "source": [
    "# by default name and age if send during calling\n",
    "def my_func(name = \"Saam\", age = 24):\n",
    "    print(\"my name is\", name)\n",
    "    print(\"I am\", age)\n",
    "\n",
    "name = input(\"Enter name: \")\n",
    "age = input(\"Enter age: \")\n",
    "my_func(name, age)\n",
    "my_func()"
   ]
  },
  {
   "cell_type": "code",
   "execution_count": 36,
   "metadata": {},
   "outputs": [
    {
     "name": "stdout",
     "output_type": "stream",
     "text": [
      "my name is samreen\n",
      "I am 32\n"
     ]
    }
   ],
   "source": [
    "# add * when don't know about the number of arguments\n",
    "def my_func(*args):\n",
    "    print(\"my name is\", name)\n",
    "    print(\"I am\", age)\n",
    "\n",
    "my_func(\"Samreen\", 34)"
   ]
  }
 ],
 "metadata": {
  "kernelspec": {
   "display_name": "Python 3",
   "language": "python",
   "name": "python3"
  },
  "language_info": {
   "codemirror_mode": {
    "name": "ipython",
    "version": 3
   },
   "file_extension": ".py",
   "mimetype": "text/x-python",
   "name": "python",
   "nbconvert_exporter": "python",
   "pygments_lexer": "ipython3",
   "version": "3.11.9"
  }
 },
 "nbformat": 4,
 "nbformat_minor": 2
}
