{
 "cells": [
  {
   "cell_type": "markdown",
   "metadata": {},
   "source": [
    "# Python Basics\n",
    "### (Variables, Data Types, Numbers, Casting, Strings, Boolean, Operators)"
   ]
  },
  {
   "cell_type": "code",
   "execution_count": 299,
   "metadata": {},
   "outputs": [
    {
     "name": "stdout",
     "output_type": "stream",
     "text": [
      "Value of X is: 5\n"
     ]
    }
   ],
   "source": [
    "# How to print in python\n",
    "x = 5\n",
    "print(\"Value of X is:\", x)"
   ]
  },
  {
   "cell_type": "code",
   "execution_count": 300,
   "metadata": {},
   "outputs": [
    {
     "name": "stdout",
     "output_type": "stream",
     "text": [
      "6.7\n",
      "Alis\n",
      "99\n"
     ]
    }
   ],
   "source": [
    "# Creating Variables\n",
    "X = 6.7\n",
    "Y = 'Alis'\n",
    "Z = 99\n",
    "print(X)\n",
    "print(Y)\n",
    "print(Z)"
   ]
  },
  {
   "cell_type": "code",
   "execution_count": 301,
   "metadata": {},
   "outputs": [
    {
     "name": "stdout",
     "output_type": "stream",
     "text": [
      "6\n",
      "Alis\n",
      "99.0\n",
      "99\n"
     ]
    }
   ],
   "source": [
    "# Casting (If you want to specify the data type of a variable, this can be done with casting.)\n",
    "X = 6.7\n",
    "Y = 'Alis'\n",
    "Z = 99\n",
    "print(int(X))\n",
    "print(Y)\n",
    "print(float(Z))\n",
    "print(str(Z))"
   ]
  },
  {
   "cell_type": "code",
   "execution_count": 302,
   "metadata": {},
   "outputs": [
    {
     "name": "stdout",
     "output_type": "stream",
     "text": [
      "<class 'float'>\n",
      "<class 'str'>\n",
      "<class 'int'>\n"
     ]
    }
   ],
   "source": [
    "# Get the Type\n",
    "X = 6.7\n",
    "Y = 'Alis'\n",
    "Z = 99\n",
    "print(type(X))\n",
    "print(type(Y))\n",
    "print(type(Z))"
   ]
  },
  {
   "cell_type": "code",
   "execution_count": 303,
   "metadata": {},
   "outputs": [
    {
     "name": "stdout",
     "output_type": "stream",
     "text": [
      "6\n",
      "7\n"
     ]
    }
   ],
   "source": [
    "# Case-Sensitive\n",
    "a = 6\n",
    "A = 7\n",
    "print(a)\n",
    "print(A)"
   ]
  },
  {
   "cell_type": "code",
   "execution_count": 304,
   "metadata": {},
   "outputs": [
    {
     "name": "stdout",
     "output_type": "stream",
     "text": [
      "orange\n",
      "banana\n",
      "apple\n"
     ]
    }
   ],
   "source": [
    "# Many Values to Multiple Variables\n",
    "x, y, z = [\"orange\", 'banana', 'apple']\n",
    "print(x)\n",
    "print(y)\n",
    "print(z)"
   ]
  },
  {
   "cell_type": "code",
   "execution_count": 305,
   "metadata": {},
   "outputs": [
    {
     "name": "stdout",
     "output_type": "stream",
     "text": [
      "orange\n",
      "orange\n",
      "orange\n"
     ]
    }
   ],
   "source": [
    "# one value to multiple variables\n",
    "x = y = z = \"orange\"\n",
    "print(x)\n",
    "print(y)\n",
    "print(z)"
   ]
  },
  {
   "cell_type": "code",
   "execution_count": 306,
   "metadata": {},
   "outputs": [
    {
     "name": "stdout",
     "output_type": "stream",
     "text": [
      "5\n"
     ]
    }
   ],
   "source": [
    "# Global Variables outside the function\n",
    "x = 5\n",
    "def myfunction():\n",
    "    # x = \"WOW\"\n",
    "    print(x)\n",
    "myfunction()"
   ]
  },
  {
   "cell_type": "code",
   "execution_count": 307,
   "metadata": {},
   "outputs": [
    {
     "name": "stdout",
     "output_type": "stream",
     "text": [
      "Fantastic\n",
      "Fantastic\n"
     ]
    }
   ],
   "source": [
    "# Global variable inside the function\n",
    "x = \"wow\"\n",
    "def myfunc():\n",
    "    global x # You can change the value of global variable inside the function\n",
    "    x = \"Fantastic\"\n",
    "    print(x)\n",
    "myfunc()\n",
    "print(x)"
   ]
  },
  {
   "cell_type": "code",
   "execution_count": 308,
   "metadata": {},
   "outputs": [
    {
     "name": "stdout",
     "output_type": "stream",
     "text": [
      "b'ABC'\n",
      "bytearray(b'DBC')\n",
      "bytearray(b'\\x00\\x01\\x02\\x03\\x04\\x05')\n",
      "<memory at 0x000001D673E2B280>\n",
      "None\n",
      "<class 'NoneType'>\n"
     ]
    }
   ],
   "source": [
    "# Data Types\n",
    "\"\"\"\n",
    "Text Type:\tstr\n",
    "Numeric Types:\tint, float, complex(1j)\n",
    "Sequence Types:\tlist, tuple, range\n",
    "Mapping Type:\tdict\n",
    "Set Types:\tset, frozenset\n",
    "Boolean Type:\tbool\n",
    "Binary Types:\tbytes, bytearray, memoryview\n",
    "None Type:\tNoneType\n",
    "\n",
    "\"\"\"\n",
    "# bytes type (Sequence of bytes can't alter once created)\n",
    "b = bytes([65, 66, 67])  # Creates a bytes object with ASCII values for 'A', 'B', 'C'\n",
    "print(b)\n",
    "\n",
    "# bytearay type (Sequecne of bytes can alter after creation)\n",
    "ba = bytearray([65, 66, 67])\n",
    "ba[0] = 68  # Changes the first byte to 'D'\n",
    "print(ba)\n",
    "\n",
    "# memoryview type\n",
    "data = bytearray([0, 1, 2, 3, 4, 5])\n",
    "print(data)\n",
    "mv = memoryview(data)\n",
    "print(mv)\n",
    "mv[1:4] = bytes([10, 20, 30])  # Modifies the slice of the bytearray\n",
    "\n",
    "# None Type\n",
    "X = None\n",
    "print(X)\n",
    "print(type(X))"
   ]
  },
  {
   "cell_type": "code",
   "execution_count": 309,
   "metadata": {},
   "outputs": [
    {
     "name": "stdout",
     "output_type": "stream",
     "text": [
      "5\n",
      "8.0\n",
      "(3+5j)\n",
      "Real part of complex number is:  3\n",
      "Imaginary part of complex number is:  5\n"
     ]
    }
   ],
   "source": [
    "# Type Conversion\n",
    "\n",
    "# Convert float into int\n",
    "x = int(5.9)\n",
    "print(x)\n",
    "\n",
    "# Convert int into float\n",
    "y = float(8)\n",
    "print(y)\n",
    "\n",
    "z = complex(3, 5)  # complex(3j)\n",
    "print(z)\n",
    "print(\"Real part of complex number is: \", int(z.real))\n",
    "print(\"Imaginary part of complex number is: \", int(z.imag))"
   ]
  },
  {
   "cell_type": "code",
   "execution_count": 310,
   "metadata": {},
   "outputs": [
    {
     "name": "stdout",
     "output_type": "stream",
     "text": [
      "45\n"
     ]
    }
   ],
   "source": [
    "# Random Number\n",
    "import random\n",
    "x = random.randint(1, 100)\n",
    "print(x)"
   ]
  },
  {
   "cell_type": "code",
   "execution_count": 311,
   "metadata": {},
   "outputs": [
    {
     "name": "stdout",
     "output_type": "stream",
     "text": [
      "Welcome to 'Python Class'.\n",
      "\n",
      "My name is Samreen Malik,\n",
      "I am an AI Developer,\n",
      "I have done my BS in Computer Engineering.\n",
      "\n"
     ]
    }
   ],
   "source": [
    "# Python Strings\n",
    "print(\"Welcome to 'Python Class'.\")\n",
    "\n",
    "x = '''\n",
    "My name is Samreen Malik,\n",
    "I am an AI Developer,\n",
    "I have done my BS in Computer Engineering.\n",
    "'''\n",
    "print(x)"
   ]
  },
  {
   "cell_type": "code",
   "execution_count": 312,
   "metadata": {},
   "outputs": [
    {
     "name": "stdout",
     "output_type": "stream",
     "text": [
      " \n",
      "H\n",
      "e\n",
      "l\n",
      "l\n",
      "o\n",
      " \n",
      "W\n",
      "o\n",
      "r\n",
      "l\n",
      "d\n"
     ]
    }
   ],
   "source": [
    "# Strings are Arrays\n",
    "X = \"Hello World\"\n",
    "print(X[5]) # spaces are also considered in string array\n",
    "\n",
    "for i in X:\n",
    "    print(i)"
   ]
  },
  {
   "cell_type": "code",
   "execution_count": 313,
   "metadata": {},
   "outputs": [
    {
     "name": "stdout",
     "output_type": "stream",
     "text": [
      "yes\n",
      "yes name not present\n"
     ]
    }
   ],
   "source": [
    "# Check String\n",
    "\n",
    "# check if present\n",
    "X = \"My name is Samreen Malik.\"\n",
    "if \"name\" in X:\n",
    "    print(\"yes\")\n",
    "\n",
    "# check if not present\n",
    "X = \"My name is Samreen Malik.\"\n",
    "if \"ALi\" not in X:\n",
    "    print(\"yes name not present\")"
   ]
  },
  {
   "cell_type": "code",
   "execution_count": 314,
   "metadata": {},
   "outputs": [
    {
     "name": "stdout",
     "output_type": "stream",
     "text": [
      "Hello\n",
      " World\n"
     ]
    }
   ],
   "source": [
    "# Slicing string\n",
    "X = \"Hello World\"\n",
    "print(X[:5])\n",
    "print(X[5:])"
   ]
  },
  {
   "cell_type": "code",
   "execution_count": 315,
   "metadata": {},
   "outputs": [
    {
     "name": "stdout",
     "output_type": "stream",
     "text": [
      "9\n",
      "asti\n",
      "citsatnaF\n"
     ]
    }
   ],
   "source": [
    "# Negative Indexing\n",
    "Y = \"Fantastic\"\n",
    "print(len(Y))\n",
    "print(Y[-5:-1])\n",
    "\n",
    "# Reverse the string usinf negtive indexing\n",
    "print(Y[::-1])"
   ]
  },
  {
   "cell_type": "code",
   "execution_count": 316,
   "metadata": {},
   "outputs": [
    {
     "name": "stdout",
     "output_type": "stream",
     "text": [
      "13\n",
      "WOW ICECREAM \n",
      "wow icecream \n",
      "12\n"
     ]
    }
   ],
   "source": [
    "# Modify String\n",
    "\n",
    "# Convert string to Upper and Lower case\n",
    "z = \"Wow Icecream \"\n",
    "print(len(z))\n",
    "print(z.upper())\n",
    "print(z.lower())\n",
    "\n",
    "# Remove whitespace from string\n",
    "print(len(z.strip())) # First length of z was 13 after removing whitespace now length is 12."
   ]
  },
  {
   "cell_type": "code",
   "execution_count": 317,
   "metadata": {},
   "outputs": [
    {
     "name": "stdout",
     "output_type": "stream",
     "text": [
      "Aython\n"
     ]
    }
   ],
   "source": [
    "# Replace String\n",
    "A = \"Python\"\n",
    "print(A.replace(\"P\", \"A\"))"
   ]
  },
  {
   "cell_type": "code",
   "execution_count": 318,
   "metadata": {},
   "outputs": [
    {
     "name": "stdout",
     "output_type": "stream",
     "text": [
      "['Python', 'is', 'awesome']\n"
     ]
    }
   ],
   "source": [
    "# Split String\n",
    "A = \"Python is awesome\"\n",
    "print(A.split())"
   ]
  },
  {
   "cell_type": "code",
   "execution_count": 319,
   "metadata": {},
   "outputs": [
    {
     "name": "stdout",
     "output_type": "stream",
     "text": [
      "Hello world\n"
     ]
    },
    {
     "ename": "TypeError",
     "evalue": "can only concatenate str (not \"int\") to str",
     "output_type": "error",
     "traceback": [
      "\u001b[1;31m---------------------------------------------------------------------------\u001b[0m",
      "\u001b[1;31mTypeError\u001b[0m                                 Traceback (most recent call last)",
      "Cell \u001b[1;32mIn[319], line 7\u001b[0m\n\u001b[0;32m      4\u001b[0m \u001b[38;5;28mprint\u001b[39m(a\u001b[38;5;241m+\u001b[39mb)\n\u001b[0;32m      6\u001b[0m age \u001b[38;5;241m=\u001b[39m \u001b[38;5;241m36\u001b[39m\n\u001b[1;32m----> 7\u001b[0m \u001b[38;5;28mprint\u001b[39m(\u001b[38;5;124;43m\"\u001b[39;49m\u001b[38;5;124;43mMy name is Samreen Malik. I am \u001b[39;49m\u001b[38;5;124;43m\"\u001b[39;49m\u001b[43m \u001b[49m\u001b[38;5;241;43m+\u001b[39;49m\u001b[43m \u001b[49m\u001b[43mage\u001b[49m) \u001b[38;5;66;03m# Can't concatenate string and number together\u001b[39;00m\n",
      "\u001b[1;31mTypeError\u001b[0m: can only concatenate str (not \"int\") to str"
     ]
    }
   ],
   "source": [
    "# String Concatenation\n",
    "a = \"Hello \"\n",
    "b = \"world\"\n",
    "print(a+b)\n",
    "\n",
    "age = 36\n",
    "print(\"My name is Samreen Malik. I am \" + age) # Can't concatenate string and number together"
   ]
  },
  {
   "cell_type": "code",
   "execution_count": 109,
   "metadata": {},
   "outputs": [
    {
     "name": "stdout",
     "output_type": "stream",
     "text": [
      "My name is Samreen Malik. I am 24 years old. Status single\n"
     ]
    }
   ],
   "source": [
    "# f string\n",
    "age = 24\n",
    "status = 'single'\n",
    "print(f\"My name is Samreen Malik. I am {age} years old. Status {status}\")"
   ]
  },
  {
   "cell_type": "code",
   "execution_count": 111,
   "metadata": {},
   "outputs": [
    {
     "name": "stdout",
     "output_type": "stream",
     "text": [
      "The price of this 'Vas' is 59.00\n",
      "Price is 30 dollars\n"
     ]
    }
   ],
   "source": [
    "# Display the price with 2 decimals\n",
    "price = 59\n",
    "print(f\"The price of this 'Vas' is {price:.2f}\")\n",
    "print(f\"Price is {20+10} dollars\")"
   ]
  },
  {
   "cell_type": "code",
   "execution_count": 119,
   "metadata": {},
   "outputs": [
    {
     "name": "stdout",
     "output_type": "stream",
     "text": [
      "My name is Samreen Malik. I am working in \"Funavry Technologies\". \n"
     ]
    }
   ],
   "source": [
    "# Python - Escape Characters\n",
    "text = \"My name is Samreen Malik. I am working in \"Funavry Technologies\". \"\n",
    "print(text)\n",
    "\n",
    "text = \"My name is Samreen Malik. I am working in \\\"Funavry Technologies\\\". \"\n",
    "print(text)"
   ]
  },
  {
   "cell_type": "code",
   "execution_count": 122,
   "metadata": {},
   "outputs": [
    {
     "name": "stdout",
     "output_type": "stream",
     "text": [
      "                              Apple                              \n",
      "15\n"
     ]
    }
   ],
   "source": [
    "# Python - String Methods\n",
    "\n",
    "# count a word in a string\n",
    "text = \"Apple is a fruit. Apple are of three colors: Green, Yellow and Red.\"\n",
    "text.count(\"Apple\")\n",
    "\n",
    "# center text \n",
    "txt = \"Apple\"\n",
    "x = txt.center(65)\n",
    "print(x)\n",
    "\n",
    "# Search index of a specified word\n",
    "txt = \"Hello, welcome to my world.\"\n",
    "x = txt.find(\"to\")\n",
    "print(x)"
   ]
  },
  {
   "cell_type": "code",
   "execution_count": 323,
   "metadata": {},
   "outputs": [
    {
     "name": "stdout",
     "output_type": "stream",
     "text": [
      "False\n",
      "True\n",
      "False\n",
      "\n",
      "\n",
      "True\n",
      "True\n",
      "True\n",
      "True\n",
      "\n",
      "\n",
      "False\n",
      "False\n",
      "False\n",
      "False\n",
      "False\n"
     ]
    }
   ],
   "source": [
    "# Python Booleans (True/False)\n",
    "print(9>10)\n",
    "print(9<10)\n",
    "print(9==10)\n",
    "print(\"\\n\")\n",
    "\n",
    "# bool True\n",
    "print(bool(\"Samreen\"))\n",
    "print(bool(5))\n",
    "print(bool(['banana', 'apple']))\n",
    "\n",
    "class myclass():\n",
    "  def myfunc(self):\n",
    "    return 0\n",
    "  \n",
    "myobj = myclass()\n",
    "print(bool(myobj))\n",
    "print(\"\\n\")\n",
    "\n",
    "# bool False\n",
    "print(bool([]))\n",
    "print(bool(\"\"))\n",
    "print(bool(0))\n",
    "print(bool(None))\n",
    "\n",
    "class myclass():\n",
    "  def __len__(self):\n",
    "    return 0\n",
    "\n",
    "myobj = myclass()\n",
    "print(bool(myobj))"
   ]
  },
  {
   "cell_type": "code",
   "execution_count": 9,
   "metadata": {},
   "outputs": [
    {
     "name": "stdout",
     "output_type": "stream",
     "text": [
      "15\n",
      "5\n",
      "50\n",
      "2.0\n",
      "0\n",
      "256\n",
      "2\n"
     ]
    }
   ],
   "source": [
    "# Python Operators\n",
    "\n",
    "# Arithmetic operators\n",
    "x = 10\n",
    "y = 5\n",
    "print(x+y)\n",
    "print(x-y)\n",
    "print(x*y)\n",
    "print(x/y)\n",
    "print(x%y)\n",
    "print(2**8) # Multiply 2*2*2*2*2\n",
    "print(x//y) # rounds the result down to the nearest whole number"
   ]
  },
  {
   "cell_type": "code",
   "execution_count": 21,
   "metadata": {},
   "outputs": [
    {
     "name": "stdout",
     "output_type": "stream",
     "text": [
      "5\n",
      "10\n",
      "5\n",
      "25\n",
      "5.0\n",
      "2\n",
      "3\n",
      "32\n",
      "AND is:  2\n",
      "OR is:  3\n",
      "XOR is:  7\n",
      "Right shift: 128\n",
      "Left shift: 0\n",
      "5\n"
     ]
    }
   ],
   "source": [
    "# Python Assignment Operators\n",
    "x = 5\n",
    "print(x)\n",
    "\n",
    "x+= 5\n",
    "print(x)\n",
    "\n",
    "x-= 5\n",
    "print(x)\n",
    "\n",
    "x*= 5\n",
    "print(x)\n",
    "\n",
    "x/= 5\n",
    "print(x)\n",
    "\n",
    "x%= 3\n",
    "print(int(x))\n",
    "\n",
    "x = 18\n",
    "x//= 5\n",
    "print(x)\n",
    "\n",
    "x = 2\n",
    "x**=5\n",
    "print(x)\n",
    "\n",
    "# AND\n",
    "a=2\n",
    "b=3\n",
    "a&= b\n",
    "print(\"AND is: \", a)\n",
    "\n",
    "# OR\n",
    "a=2\n",
    "b=3\n",
    "a|= b\n",
    "print(\"OR is: \", a)\n",
    "\n",
    "# XOR\n",
    "a=3\n",
    "b=4\n",
    "a^= b\n",
    "print(\"XOR is: \", a)\n",
    "\n",
    "# Right shift operator\n",
    "a = 4\n",
    "b = 5\n",
    "a<<= b\n",
    "print(\"Right shift:\", a)\n",
    "\n",
    "# Left shift operator\n",
    "a = 4\n",
    "b = 5\n",
    "a>>= b\n",
    "print(\"Left shift:\", a)\n",
    "\n",
    "# Assign value within print statement\n",
    "print(x:= 5)"
   ]
  }
 ],
 "metadata": {
  "kernelspec": {
   "display_name": "Python 3",
   "language": "python",
   "name": "python3"
  },
  "language_info": {
   "codemirror_mode": {
    "name": "ipython",
    "version": 3
   },
   "file_extension": ".py",
   "mimetype": "text/x-python",
   "name": "python",
   "nbconvert_exporter": "python",
   "pygments_lexer": "ipython3",
   "version": "3.11.9"
  }
 },
 "nbformat": 4,
 "nbformat_minor": 2
}
